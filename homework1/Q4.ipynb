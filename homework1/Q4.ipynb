{
 "cells": [
  {
   "cell_type": "code",
   "execution_count": 1,
   "metadata": {},
   "outputs": [],
   "source": [
    "import numpy as np\n",
    "from scipy.optimize import minimize\n",
    "from functools import partial\n",
    "import matplotlib.pyplot as plt"
   ]
  },
  {
   "cell_type": "code",
   "execution_count": 2,
   "metadata": {},
   "outputs": [],
   "source": [
    "def f(z, sample):\n",
    "    count = 1\n",
    "    for x,y in sample:\n",
    "        count *= 1 / (2 * np.pi * (1 - z**2) ** 0.5) * np.e ** (-1 / (2 * ( 1 - z ** 2)) * (x ** 2 - 2 * z * x * y + y**2))\n",
    "    return -count"
   ]
  },
  {
   "cell_type": "code",
   "execution_count": 3,
   "metadata": {},
   "outputs": [],
   "source": [
    "def generate_normal(n_size):\n",
    "    mean = (0, 0)\n",
    "    cov = [[1, 1/2], [1/2, 1]]\n",
    "    return np.random.multivariate_normal(mean, cov, n_size)\n",
    "\n",
    "def max_likehood(sample):\n",
    "    fx = partial(f, sample=sample)\n",
    "    x0 = np.array([0.5])\n",
    "    res = minimize(fx, x0, method='nelder-mead',\n",
    "                   options={'xatol': 1e-8, 'disp': True})\n",
    "    return res.x[0]\n",
    "\n",
    "def cov(sample):\n",
    "    xs, ys = 0, 0\n",
    "    for x, y in sample:\n",
    "        xs += x\n",
    "        ys += y\n",
    "    xs, ys = xs / len(sample), ys / len(sample)\n",
    "    p = 0\n",
    "    for x, y in sample:\n",
    "        p += (x - xs) * (y - ys)\n",
    "    return p / len(sample)"
   ]
  },
  {
   "cell_type": "code",
   "execution_count": 8,
   "metadata": {
    "collapsed": true
   },
   "outputs": [
    {
     "name": "stdout",
     "output_type": "stream",
     "text": [
      "Optimization terminated successfully.\n",
      "         Current function value: -0.000000\n",
      "         Iterations: 31\n",
      "         Function evaluations: 62\n",
      "Optimization terminated successfully.\n",
      "         Current function value: -0.000000\n",
      "         Iterations: 25\n",
      "         Function evaluations: 51\n",
      "Optimization terminated successfully.\n",
      "         Current function value: -0.000000\n",
      "         Iterations: 25\n",
      "         Function evaluations: 50\n",
      "Optimization terminated successfully.\n",
      "         Current function value: -0.000000\n",
      "         Iterations: 25\n",
      "         Function evaluations: 50\n",
      "Optimization terminated successfully.\n",
      "         Current function value: -0.000000\n",
      "         Iterations: 23\n",
      "         Function evaluations: 46\n",
      "Optimization terminated successfully.\n",
      "         Current function value: -0.000000\n",
      "         Iterations: 26\n",
      "         Function evaluations: 52\n",
      "Optimization terminated successfully.\n",
      "         Current function value: -0.000000\n",
      "         Iterations: 23\n",
      "         Function evaluations: 68\n",
      "Optimization terminated successfully.\n",
      "         Current function value: -0.000000\n",
      "         Iterations: 23\n",
      "         Function evaluations: 68\n",
      "Optimization terminated successfully.\n",
      "         Current function value: -0.000000\n",
      "         Iterations: 23\n",
      "         Function evaluations: 68\n",
      "Optimization terminated successfully.\n",
      "         Current function value: -0.000000\n",
      "         Iterations: 23\n",
      "         Function evaluations: 68\n",
      "Optimization terminated successfully.\n",
      "         Current function value: -0.000000\n",
      "         Iterations: 23\n",
      "         Function evaluations: 68\n",
      "Optimization terminated successfully.\n",
      "         Current function value: -0.000000\n",
      "         Iterations: 23\n",
      "         Function evaluations: 68\n",
      "Optimization terminated successfully.\n",
      "         Current function value: -0.000000\n",
      "         Iterations: 23\n",
      "         Function evaluations: 68\n",
      "Optimization terminated successfully.\n",
      "         Current function value: -0.000000\n",
      "         Iterations: 23\n",
      "         Function evaluations: 68\n",
      "Optimization terminated successfully.\n",
      "         Current function value: -0.000000\n",
      "         Iterations: 23\n",
      "         Function evaluations: 68\n",
      "Optimization terminated successfully.\n",
      "         Current function value: -0.000000\n",
      "         Iterations: 23\n",
      "         Function evaluations: 68\n",
      "Optimization terminated successfully.\n",
      "         Current function value: -0.000000\n",
      "         Iterations: 23\n",
      "         Function evaluations: 68\n",
      "Optimization terminated successfully.\n",
      "         Current function value: -0.000000\n",
      "         Iterations: 23\n",
      "         Function evaluations: 68\n",
      "Optimization terminated successfully.\n",
      "         Current function value: -0.000000\n",
      "         Iterations: 23\n",
      "         Function evaluations: 68\n",
      "Optimization terminated successfully.\n",
      "         Current function value: -0.000000\n",
      "         Iterations: 23\n",
      "         Function evaluations: 68\n"
     ]
    }
   ],
   "source": [
    "x, y_1, y_2 = [], [], []\n",
    "for size in range(10, 1000, 50):\n",
    "    sample = generate_normal(size)\n",
    "    x.append(size)\n",
    "    y_1.append(max_likehood(sample))\n",
    "    y_2.append(cov(sample))"
   ]
  },
  {
   "cell_type": "markdown",
   "metadata": {},
   "source": [
    "# Сравнение метода моментов и метода максимального правдоподобия\n",
    "### Оранжевая линия - оценка по методу моментов, синяя линия - оценка по методу максимального правдоподобия\n",
    "Для сравнения были взят случайный вектор из двух компонент из нормального распределения, с средним 0 и дисперсией 1 и ковариационной матрицей [[1, 1/2], [1/2, 1]].\n",
    "\n",
    "Видно, что с какого-то момента оценка максимального правдоподобия всегда уходит в истинную оценку, когда оценка по методу моментов сходится к истинному значению."
   ]
  },
  {
   "cell_type": "code",
   "execution_count": 10,
   "metadata": {},
   "outputs": [
    {
     "data": {
      "text/plain": [
       "<matplotlib.legend.Legend at 0xcd2c170>"
      ]
     },
     "execution_count": 10,
     "metadata": {},
     "output_type": "execute_result"
    },
    {
     "data": {
      "image/png": "[encoded data removed]",
      "text/plain": [
       "<Figure size 432x288 with 1 Axes>"
      ]
     },
     "metadata": {
      "needs_background": "light"
     },
     "output_type": "display_data"
    }
   ],
   "source": [
    "plt.axhline(y=0.5, color='r', linestyle='--')\n",
    "plt.plot(x, y_1)\n",
    "plt.plot(x, y_2);\n",
    "plt.xlabel('Размер выборки')\n",
    "plt.ylabel('Значение выборочной оценки параметра');\n",
    "plt.legend('Теоерти')"
   ]
  },
  {
   "cell_type": "code",
   "execution_count": null,
   "metadata": {},
   "outputs": [],
   "source": []
  }
 ],
 "metadata": {
  "kernelspec": {
   "display_name": "Python 3",
   "language": "python",
   "name": "python3"
  },
  "language_info": {
   "codemirror_mode": {
    "name": "ipython",
    "version": 3
   },
   "file_extension": ".py",
   "mimetype": "text/x-python",
   "name": "python",
   "nbconvert_exporter": "python",
   "pygments_lexer": "ipython3",
   "version": "3.7.4"
  }
 },
 "nbformat": 4,
 "nbformat_minor": 2
}
