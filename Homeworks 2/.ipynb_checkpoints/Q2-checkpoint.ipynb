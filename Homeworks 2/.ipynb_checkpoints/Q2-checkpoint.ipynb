{
 "cells": [
  {
   "cell_type": "code",
   "execution_count": 44,
   "metadata": {},
   "outputs": [],
   "source": [
    "from scipy import stats\n",
    "import pandas as pd\n",
    "import seaborn as sns\n",
    "import matplotlib.pyplot as plt\n",
    "import numpy as np"
   ]
  },
  {
   "cell_type": "code",
   "execution_count": 17,
   "metadata": {},
   "outputs": [],
   "source": [
    "df = pd.read_excel('Cryotherapy.xlsx')"
   ]
  },
  {
   "cell_type": "code",
   "execution_count": 18,
   "metadata": {},
   "outputs": [],
   "source": [
    "X, target = df[df.columns[:-1]], df['Result_of_Treatment']"
   ]
  },
  {
   "cell_type": "markdown",
   "metadata": {},
   "source": [
    "### Заметим, что время сильно кореллирует с результатом лечения, проверим данную гипотезу"
   ]
  },
  {
   "cell_type": "code",
   "execution_count": 25,
   "metadata": {},
   "outputs": [
    {
     "data": {
      "text/html": [
       "<div>\n",
       "<style scoped>\n",
       "    .dataframe tbody tr th:only-of-type {\n",
       "        vertical-align: middle;\n",
       "    }\n",
       "\n",
       "    .dataframe tbody tr th {\n",
       "        vertical-align: top;\n",
       "    }\n",
       "\n",
       "    .dataframe thead th {\n",
       "        text-align: right;\n",
       "    }\n",
       "</style>\n",
       "<table border=\"1\" class=\"dataframe\">\n",
       "  <thead>\n",
       "    <tr style=\"text-align: right;\">\n",
       "      <th></th>\n",
       "      <th>sex</th>\n",
       "      <th>age</th>\n",
       "      <th>Time</th>\n",
       "      <th>Number_of_Warts</th>\n",
       "      <th>Type</th>\n",
       "      <th>Area</th>\n",
       "      <th>Result_of_Treatment</th>\n",
       "    </tr>\n",
       "  </thead>\n",
       "  <tbody>\n",
       "    <tr>\n",
       "      <td>sex</td>\n",
       "      <td>1.000000</td>\n",
       "      <td>-0.115185</td>\n",
       "      <td>0.074417</td>\n",
       "      <td>0.018952</td>\n",
       "      <td>0.219970</td>\n",
       "      <td>0.091213</td>\n",
       "      <td>-0.086203</td>\n",
       "    </tr>\n",
       "    <tr>\n",
       "      <td>age</td>\n",
       "      <td>-0.115185</td>\n",
       "      <td>1.000000</td>\n",
       "      <td>0.236305</td>\n",
       "      <td>-0.034797</td>\n",
       "      <td>0.415536</td>\n",
       "      <td>0.080915</td>\n",
       "      <td>-0.542780</td>\n",
       "    </tr>\n",
       "    <tr>\n",
       "      <td>Time</td>\n",
       "      <td>0.074417</td>\n",
       "      <td>0.236305</td>\n",
       "      <td>1.000000</td>\n",
       "      <td>-0.074354</td>\n",
       "      <td>0.235056</td>\n",
       "      <td>0.241559</td>\n",
       "      <td>-0.654147</td>\n",
       "    </tr>\n",
       "    <tr>\n",
       "      <td>Number_of_Warts</td>\n",
       "      <td>0.018952</td>\n",
       "      <td>-0.034797</td>\n",
       "      <td>-0.074354</td>\n",
       "      <td>1.000000</td>\n",
       "      <td>0.002784</td>\n",
       "      <td>0.108762</td>\n",
       "      <td>0.078273</td>\n",
       "    </tr>\n",
       "    <tr>\n",
       "      <td>Type</td>\n",
       "      <td>0.219970</td>\n",
       "      <td>0.415536</td>\n",
       "      <td>0.235056</td>\n",
       "      <td>0.002784</td>\n",
       "      <td>1.000000</td>\n",
       "      <td>0.354398</td>\n",
       "      <td>-0.485030</td>\n",
       "    </tr>\n",
       "    <tr>\n",
       "      <td>Area</td>\n",
       "      <td>0.091213</td>\n",
       "      <td>0.080915</td>\n",
       "      <td>0.241559</td>\n",
       "      <td>0.108762</td>\n",
       "      <td>0.354398</td>\n",
       "      <td>1.000000</td>\n",
       "      <td>-0.188886</td>\n",
       "    </tr>\n",
       "    <tr>\n",
       "      <td>Result_of_Treatment</td>\n",
       "      <td>-0.086203</td>\n",
       "      <td>-0.542780</td>\n",
       "      <td>-0.654147</td>\n",
       "      <td>0.078273</td>\n",
       "      <td>-0.485030</td>\n",
       "      <td>-0.188886</td>\n",
       "      <td>1.000000</td>\n",
       "    </tr>\n",
       "  </tbody>\n",
       "</table>\n",
       "</div>"
      ],
      "text/plain": [
       "                          sex       age      Time  Number_of_Warts      Type  \\\n",
       "sex                  1.000000 -0.115185  0.074417         0.018952  0.219970   \n",
       "age                 -0.115185  1.000000  0.236305        -0.034797  0.415536   \n",
       "Time                 0.074417  0.236305  1.000000        -0.074354  0.235056   \n",
       "Number_of_Warts      0.018952 -0.034797 -0.074354         1.000000  0.002784   \n",
       "Type                 0.219970  0.415536  0.235056         0.002784  1.000000   \n",
       "Area                 0.091213  0.080915  0.241559         0.108762  0.354398   \n",
       "Result_of_Treatment -0.086203 -0.542780 -0.654147         0.078273 -0.485030   \n",
       "\n",
       "                         Area  Result_of_Treatment  \n",
       "sex                  0.091213            -0.086203  \n",
       "age                  0.080915            -0.542780  \n",
       "Time                 0.241559            -0.654147  \n",
       "Number_of_Warts      0.108762             0.078273  \n",
       "Type                 0.354398            -0.485030  \n",
       "Area                 1.000000            -0.188886  \n",
       "Result_of_Treatment -0.188886             1.000000  "
      ]
     },
     "execution_count": 25,
     "metadata": {},
     "output_type": "execute_result"
    }
   ],
   "source": [
    "df.corr()"
   ]
  },
  {
   "cell_type": "markdown",
   "metadata": {},
   "source": [
    "#### Заметим, что время влияет на результат лечения, попробуем проверить это как статистическую гипотезу проверив средние по времени с помощью z-test'а.\n",
    "#### $H_0:$ средние равны, $H_1:$ средние не равны\n",
    "#### Уровень доверия, возьмем $\\alpha = 0.001$, тогда доверительная область статисики есть: $(-3.29053 ; 3.29053)$."
   ]
  },
  {
   "cell_type": "code",
   "execution_count": 12,
   "metadata": {},
   "outputs": [
    {
     "data": {
      "text/plain": [
       "<matplotlib.axes._subplots.AxesSubplot at 0xd86ef0>"
      ]
     },
     "execution_count": 12,
     "metadata": {},
     "output_type": "execute_result"
    },
    {
     "data": {
      "image/png": "[encoded data removed]",
      "text/plain": [
       "<Figure size 432x288 with 1 Axes>"
      ]
     },
     "metadata": {
      "needs_background": "light"
     },
     "output_type": "display_data"
    }
   ],
   "source": [
    "sns.distplot(df[df['Result_of_Treatment'] == 0]['Time'])\n",
    "sns.distplot(df[df['Result_of_Treatment'] == 1]['Time'])"
   ]
  },
  {
   "cell_type": "code",
   "execution_count": 14,
   "metadata": {},
   "outputs": [],
   "source": [
    "X_1 = df[df['Result_of_Treatment'] == 0]['Time']\n",
    "X_2 = df[df['Result_of_Treatment'] == 1]['Time']"
   ]
  },
  {
   "cell_type": "markdown",
   "metadata": {},
   "source": [
    "#### Видно, что статистика критерия не попадает в доверительную область, есть основания полагать, что время влияет на лечение."
   ]
  },
  {
   "cell_type": "code",
   "execution_count": 15,
   "metadata": {},
   "outputs": [
    {
     "data": {
      "text/plain": [
       "8.248879771426479"
      ]
     },
     "execution_count": 15,
     "metadata": {},
     "output_type": "execute_result"
    }
   ],
   "source": [
    "(X_1.mean() - X_2.mean())/(np.sqrt(X_1.std()**2/X_1.count() + X_2.std()**2/X_2.count()))"
   ]
  },
  {
   "cell_type": "markdown",
   "metadata": {},
   "source": [
    "#### Видно так же, что тип бородавок скореллирован с лечением, попробуем выяснить в чем проблема\n",
    "#### Рассмотрим распределение борадавок по типам и посмотрим в скольких % случаев получился положительный результат"
   ]
  },
  {
   "cell_type": "code",
   "execution_count": 47,
   "metadata": {},
   "outputs": [
    {
     "data": {
      "image/png": "[encoded data removed]",
      "text/plain": [
       "<Figure size 864x504 with 1 Axes>"
      ]
     },
     "metadata": {
      "needs_background": "light"
     },
     "output_type": "display_data"
    }
   ],
   "source": [
    "plt.figure(figsize=(12, 7))\n",
    "g = sns.countplot(df['Type'])\n",
    "g.set(title='Распределение типов борадавок', xlabel='Тип борадавки', ylabel='Количество данного типа');"
   ]
  },
  {
   "cell_type": "markdown",
   "metadata": {},
   "source": [
    "#### Видно, что первого и третьего типа имеют существенные различия, второго типа имеют слишком малое количество данных для сравнения."
   ]
  },
  {
   "cell_type": "code",
   "execution_count": 50,
   "metadata": {},
   "outputs": [
    {
     "data": {
      "image/png": "[encoded data removed]",
      "text/plain": [
       "<Figure size 864x504 with 1 Axes>"
      ]
     },
     "metadata": {
      "needs_background": "light"
     },
     "output_type": "display_data"
    }
   ],
   "source": [
    "plt.figure(figsize=(12, 7))\n",
    "g = sns.barplot(x=[1,2,3], y=df.groupby('Type').describe()['Result_of_Treatment']['mean'])\n",
    "g.set(title='Распределение успешного лечения по типам', xlabel='Тип борадавки', ylabel='% успешных лечений');"
   ]
  },
  {
   "cell_type": "markdown",
   "metadata": {},
   "source": [
    "#### Проверим, что борадавки третьего типа имеют распределение отличного от первого, для этого построим доверительный интервал для борадавок первого типа и третьего типа и посмотрим имеют ли они пересечение.\n",
    "#### Так как в моем предположении распределение успеха лечения имеет распределение Бернулли, то будем строить доверительный интервал для него. \n",
    "Будем строить доверительный интервал для каждого типа с уровнем доверия $\\alpha = 0.001$."
   ]
  },
  {
   "cell_type": "code",
   "execution_count": 95,
   "metadata": {},
   "outputs": [],
   "source": [
    "def get_confidience(data):\n",
    "    z, n, p = 3.29053, len(data), sum(data) / len(data)\n",
    "    return (max(0, p - z * (p * (1-p)/n) ** 0.5), min(1, p + z * (p * (1-p)/n) ** 0.5))"
   ]
  },
  {
   "cell_type": "code",
   "execution_count": 96,
   "metadata": {},
   "outputs": [],
   "source": [
    "X_1 = df[df['Type'] == 1]['Result_of_Treatment']\n",
    "X_2 = df[df['Type'] == 3]['Result_of_Treatment']"
   ]
  },
  {
   "cell_type": "markdown",
   "metadata": {},
   "source": [
    "#### Видно, что полученные доверительные интервалы не пересекаются, значит нет оснований полагать, что успех от лечения в этих группах распределен одинаковым образом"
   ]
  },
  {
   "cell_type": "code",
   "execution_count": 97,
   "metadata": {},
   "outputs": [
    {
     "name": "stdout",
     "output_type": "stream",
     "text": [
      "Дверительный интервал для борадавок первого типа: (0.49923492424451477, 0.9081724831628927)\n",
      "Дверительный интервал для борадавок второго типа: (0, 0.3731127162110931)\n"
     ]
    }
   ],
   "source": [
    "print('Дверительный интервал для борадавок первого типа:', get_confidience(sample_1))\n",
    "print('Дверительный интервал для борадавок второго типа:', get_confidience(sample_2))"
   ]
  },
  {
   "cell_type": "code",
   "execution_count": null,
   "metadata": {},
   "outputs": [],
   "source": []
  }
 ],
 "metadata": {
  "kernelspec": {
   "display_name": "Python 3",
   "language": "python",
   "name": "python3"
  },
  "language_info": {
   "codemirror_mode": {
    "name": "ipython",
    "version": 3
   },
   "file_extension": ".py",
   "mimetype": "text/x-python",
   "name": "python",
   "nbconvert_exporter": "python",
   "pygments_lexer": "ipython3",
   "version": "3.7.4"
  }
 },
 "nbformat": 4,
 "nbformat_minor": 2
}
